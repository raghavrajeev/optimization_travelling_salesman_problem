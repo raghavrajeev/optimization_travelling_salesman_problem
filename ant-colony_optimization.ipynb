{
 "cells": [
  {
   "cell_type": "code",
   "execution_count": 1,
   "metadata": {},
   "outputs": [],
   "source": [
    "import numpy as np\n",
    "\n",
    "class ACO():\n",
    "    def __init__(self, nCitys, nAnts, alpha=1, beta=2, evapRate=0.3):\n",
    "        self.nCitys = nCitys\n",
    "        self.nAnts = nAnts\n",
    "        self.alpha = alpha\n",
    "        self.beta = beta\n",
    "        self.evapRate = evapRate\n",
    "        \n",
    "    def findNextPosition(self, cur_loc, pheromone, temp_visibility):\n",
    "        combine_feature = np.zeros(self.nCitys)\n",
    "        cum_prob = np.zeros(self.nCitys)\n",
    "        temp_visibility[:,cur_loc] = 0     #making visibility of the current city as zero\n",
    "\n",
    "        p_feature = np.power(pheromone[cur_loc,:],beta)         #calculating pheromne feature \n",
    "        v_feature = np.power(temp_visibility[cur_loc,:],alpha)  #calculating visibility feature\n",
    "\n",
    "        p_feature = p_feature[:,np.newaxis]                     #adding axis to make a size[5,1]\n",
    "        v_feature = v_feature[:,np.newaxis]                     #adding axis to make a size[5,1]\n",
    "\n",
    "        combine_feature = np.multiply(p_feature,v_feature)     #calculating the combine feature\n",
    "\n",
    "        total = np.sum(combine_feature)                        #sum of all the feature\n",
    "        if total == 0:\n",
    "            probs = 1\n",
    "        else:\n",
    "            # finding probability of element probs(i) =\n",
    "            # comine_feature(i)/total\n",
    "            probs = combine_feature / total\n",
    "\n",
    "        cum_prob = np.cumsum(probs)     #calculating cummulative sum\n",
    "        #print(cum_prob)\n",
    "        r = np.random.random_sample()   #randon no in [0,1)\n",
    "        #print(r)\n",
    "        city = np.nonzero(cum_prob>r)[0][0]+1\n",
    "        return city\n",
    "    \n",
    "    def updatePheromone(self, dist_cost, pheromone, trails):\n",
    "        p = pheromone.copy()\n",
    "        for i in range(self.nAnts):\n",
    "            for j in range(self.nCitys-1):\n",
    "                dt = 1/dist_cost[i]\n",
    "                p[trails[i,j]-1,trails[i,j+1]-1] = (1-self.evapRate)*pheromone[trails[i,j]-1,trails[i,j+1]-1] + dt                                            \n",
    "        return p\n",
    "                \n",
    "    \n",
    "    def trailLength(self, trails, costMatrix):\n",
    "        dist_cost = np.zeros((self.nAnts,1)) \n",
    "        for i in range(self.nAnts):\n",
    "            sum = 0\n",
    "            for j in range(self.nCitys-1):\n",
    "                sum = sum + costMatrix[trails[i,j]-1,\\\n",
    "                               trails[i,j+1]-1]   #calcualting total tour distance\n",
    "                dist_cost[i] = sum   \n",
    "        return dist_cost\n",
    "    \n",
    "    \n",
    "    def optimizer(self, costMatrix, maxIter=1000):\n",
    "        visibility = 1/costMatrix\n",
    "        visibility[visibility == np.inf] = 0\n",
    "        pheromone = .1*np.ones((self.nCitys, self.nCitys))\n",
    "        trails = np.ones((self.nAnts, self.nCitys+1), dtype=int)\n",
    "        \n",
    "        it = 0\n",
    "        best_route_cost = []\n",
    "        iterations = []\n",
    "        while(it < maxIter):\n",
    "            trails[:,0] = 1\n",
    "            for iAnt in range(self.nAnts):\n",
    "                temp_visibility = np.array(visibility)\n",
    "                \n",
    "                for iCity in range(self.nCitys - 1):\n",
    "                    cur_loc = trails[iAnt, iCity] - 1\n",
    "                    trails[iAnt, iCity+1] = self.findNextPosition(cur_loc,pheromone, temp_visibility)\n",
    "                \n",
    "#                 trails[iAnt, -2] = list(set([i for i in range(1,self.nCitys+1)])-set(trails[iAnt,:-2]))[0]\n",
    "            \n",
    "            trails_opt = np.array(trails)               #intializing optimal route\n",
    "            dist_cost = self.trailLength(trails_opt, costMatrix)\n",
    "            #intializing total_distance_of_tour with zero   \n",
    "            dist_min_loc = np.argmin(dist_cost)\n",
    "            dist_min_cost = dist_cost[dist_min_loc]\n",
    "            \n",
    "            best_route = trails[dist_min_loc,:]\n",
    "            if(it% 1 == 0):\n",
    "                iterations.append(it)\n",
    "                best_route_cost.append(int(dist_min_cost[0]) + costMatrix[int(best_route[-2])-1,0])\n",
    "            pheromone = self.updatePheromone(dist_cost, pheromone, trails)\n",
    "            it+=1\n",
    "        return best_route, iterations,best_route_cost\n",
    "    "
   ]
  },
  {
   "cell_type": "code",
   "execution_count": 2,
   "metadata": {},
   "outputs": [],
   "source": [
    "import numpy as np"
   ]
  },
  {
   "cell_type": "code",
   "execution_count": 3,
   "metadata": {},
   "outputs": [
    {
     "name": "stdout",
     "output_type": "stream",
     "text": [
      "[ 1  2  3  4  5  6  7 11  8  9 10  1] best_val 2252.2874\n"
     ]
    },
    {
     "data": {
      "image/png": "[encoded data removed]",
      "text/plain": [
       "<Figure size 432x288 with 1 Axes>"
      ]
     },
     "metadata": {
      "needs_background": "light"
     },
     "output_type": "display_data"
    }
   ],
   "source": [
    "# Input Parameters\n",
    "\n",
    "import matplotlib.pyplot as plt\n",
    "\n",
    "\n",
    "\n",
    "# costMatrix = np.zeros((nCitys, nCitys)\n",
    "# costMatrix = np.array([[0,10,12,11]\n",
    "#           ,[10,0,13,15]\n",
    "#           ,[12,13,0,9]\n",
    "#           ,[11,15,9,0]])\n",
    "\n",
    "# costMatrix = np.array([[0, 266.6538, 15000, 15000, 15000, 15000, 388.4219,427.6574, 15000, 262.287, 295.6253]\n",
    "#           ,[266.6538, 0, 320.6497, 15000, 15000, 15000,15000, 15000, 15000, 15000, 15000]\n",
    "#           ,[15000, 320.6497, 0, 219.4997, 15000, 15000, 15000, 15000, 15000,15000, 170.118]\n",
    "#           ,[15000, 15000, 219.4997, 0, 166.0354, 15000, 15000 ,15000 ,15000 ,15000, 15000]\n",
    "#           ,[15000, 15000, 15000, 166.0354, 0, 138.238, 15000, 15000, 15000, 15000, 15000]\n",
    "#           ,[15000, 15000, 15000, 15000,138.283, 0, 152.842,15000, 15000, 15000, 15000]\n",
    "#           ,[388.4219,15000, 15000, 15000, 15000, 152.842, 0, 182.6261,15000, 15000, 193.4845]\n",
    "#           ,[427.6574, 15000, 15000, 15000, 15000, 15000, 182.6261, 0, 192.3555, 15000, 232.7199]\n",
    "#           ,[15000, 15000, 15000, 15000, 15000, 15000, 15000,192.3555, 0, 107.5493, 15000]  \n",
    "#           ,[262.2874, 15000, 15000, 15000, 15000, 15000, 15000, 15000,107.5493, 15000, 15000]\n",
    "#           ,[295.6253, 0, 170.118, 15000, 15000, 15000, 193.4845,232.7199,15000, 15000, 0]])\n",
    "\n",
    "#data = np.load('att48.npz', allow_pickle=True)\n",
    "#lst = data.files\n",
    "#costMatrix=data[lst[1]]\n",
    "\n",
    "#costMatrix = np.array([[15000, 266.6538, 15000, 15000, 15000, 15000, 388.4219,427.6574, 15000, 262.287, 295.6253]\n",
    "#          ,[266.6538, 15000, 320.6497, 15000, 15000, 15000,15000, 15000, 15000, 15000, 15000]\n",
    "#          ,[15000, 320.6497, 15000, 219.4997, 15000, 15000, 15000, 15000, 15000,15000, 170.118]\n",
    "#          ,[15000, 15000, 219.4997, 15000, 166.0354, 15000, 15000 ,15000 ,15000 ,15000, 15000]\n",
    "#          ,[15000, 15000, 15000, 166.0354, 15000, 138.238, 15000, 15000, 15000, 15000, 15000]\n",
    "#          ,[15000, 15000, 15000, 15000,138.283, 15000, 152.842,15000, 15000, 15000, 15000]\n",
    "#          ,[388.4219,15000, 15000, 15000, 15000, 152.842, 15000, 182.6261,15000, 15000, 193.4845]\n",
    "#          ,[427.6574, 15000, 15000, 15000, 15000, 15000, 182.6261, 15000, 192.3555, 15000, 232.7199]\n",
    "#          ,[15000, 15000, 15000, 15000, 15000, 15000, 15000,192.3555, 15000, 107.5493, 15000]  \n",
    "#          ,[262.2874, 15000, 15000, 15000, 15000, 15000, 15000, 15000,107.5493, 15000, 15000]\n",
    "#          ,[295.6253, 15000, 170.118, 15000, 15000, 15000, 193.4845,232.7199,15000, 15000, 15000]])\n",
    "nCitys = costMatrix.shape[0]\n",
    "nAnts = 5; \n",
    "alpha, beta, evapRate = 1.5, 1.5, 0.2\n",
    "\n",
    "maxIters = 50 # np.arange(50, 150, 10)\n",
    "\n",
    "nAnt_vals =  [10, 20, 30, 40]\n",
    "# best_val = np.zeros_like(nAnt_vals)\n",
    "\n",
    "a = ACO(nCitys, 30, alpha= alpha, beta=beta, evapRate=evapRate)\n",
    "m, iters, best_val = a.optimizer(costMatrix, maxIter= 50)\n",
    "plt.plot(iters, best_val)\n",
    "# plt.ylim(0, 10000)\n",
    "\n",
    "print(m, \"best_val\" , best_val[-1])"
   ]
  },
  {
   "cell_type": "code",
   "execution_count": null,
   "metadata": {},
   "outputs": [],
   "source": []
  },
  {
   "cell_type": "code",
   "execution_count": 76,
   "metadata": {},
   "outputs": [
    {
     "data": {
      "text/plain": [
       "(11, 11)"
      ]
     },
     "execution_count": 76,
     "metadata": {},
     "output_type": "execute_result"
    }
   ],
   "source": [
    "costMatrix.shape\n",
    "# visibility = 1/costMatrix #[costMatrix != 0]\n",
    "# print(visibility)\n",
    "# visibility[visibility == np.inf] = 0"
   ]
  },
  {
   "cell_type": "code",
   "execution_count": 24,
   "metadata": {},
   "outputs": [
    {
     "data": {
      "text/plain": [
       "array([10, 12, 11, 14, 10, 13, 15,  8, 12, 13,  9, 14, 11, 15,  9, 16, 14,\n",
       "        8, 14, 16])"
      ]
     },
     "execution_count": 24,
     "metadata": {},
     "output_type": "execute_result"
    }
   ],
   "source": [
    "costMatrix[costMatrix != 0]"
   ]
  },
  {
   "cell_type": "code",
   "execution_count": 25,
   "metadata": {},
   "outputs": [
    {
     "data": {
      "text/plain": [
       "array([[ 0, 10, 12, 11, 14],\n",
       "       [10,  0, 13, 15,  8],\n",
       "       [12, 13,  0,  9, 14],\n",
       "       [11, 15,  9,  0, 16],\n",
       "       [14,  8, 14, 16,  0]])"
      ]
     },
     "execution_count": 25,
     "metadata": {},
     "output_type": "execute_result"
    }
   ],
   "source": [
    "costMatrix"
   ]
  },
  {
   "cell_type": "code",
   "execution_count": 27,
   "metadata": {},
   "outputs": [
    {
     "data": {
      "text/plain": [
       "array([10, 20, 30, 40, 50, 60, 70])"
      ]
     },
     "execution_count": 27,
     "metadata": {},
     "output_type": "execute_result"
    }
   ],
   "source": [
    "np.arange(10, 80, 10)"
   ]
  },
  {
   "cell_type": "code",
   "execution_count": null,
   "metadata": {},
   "outputs": [],
   "source": [
    "\n"
   ]
  }
 ],
 "metadata": {
  "kernelspec": {
   "display_name": "Python 3",
   "language": "python",
   "name": "python3"
  },
  "language_info": {
   "codemirror_mode": {
    "name": "ipython",
    "version": 3
   },
   "file_extension": ".py",
   "mimetype": "text/x-python",
   "name": "python",
   "nbconvert_exporter": "python",
   "pygments_lexer": "ipython3",
   "version": "3.8.3"
  }
 },
 "nbformat": 4,
 "nbformat_minor": 5
}
